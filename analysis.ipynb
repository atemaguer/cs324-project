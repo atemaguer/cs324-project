{
 "cells": [
  {
   "cell_type": "code",
   "execution_count": 1,
   "metadata": {},
   "outputs": [],
   "source": [
    "import torch\n",
    "from transformers import AutoTokenizer, AutoModelForCausalLM\n",
    "from datasets import load_dataset"
   ]
  },
  {
   "cell_type": "code",
   "execution_count": 2,
   "metadata": {},
   "outputs": [],
   "source": [
    "from utils import load_evaluation_dataset, get_model_tokenizer, compute_metrics"
   ]
  },
  {
   "cell_type": "code",
   "execution_count": 3,
   "metadata": {},
   "outputs": [],
   "source": [
    "device = \"cuda\" if torch.cuda.is_available else \"cpu\"\n",
    "DATASET_FOLDER = \"./\""
   ]
  },
  {
   "cell_type": "code",
   "execution_count": 4,
   "metadata": {},
   "outputs": [],
   "source": [
    "tokenizer = AutoTokenizer.from_pretrained(\"./bloomz-contrastive-finetuned/bloomz-finetuned\")\n",
    "model = AutoModelForCausalLM.from_pretrained(\"./bloomz-contrastive-finetuned/bloomz-finetuned\")"
   ]
  },
  {
   "cell_type": "code",
   "execution_count": 5,
   "metadata": {},
   "outputs": [
    {
     "name": "stderr",
     "output_type": "stream",
     "text": [
      "Found cached dataset json (/future/u/atemjohn/home/.cache/huggingface/datasets/json/default-832f6b7e05bb2241/0.0.0/0f7e3662623656454fcd2b650f34e886a7db4b9104504885bd462096cc7a9f51)\n"
     ]
    },
    {
     "data": {
      "application/vnd.jupyter.widget-view+json": {
       "model_id": "41fa5a9c79ac4f2c9764df610d4c37ae",
       "version_major": 2,
       "version_minor": 0
      },
      "text/plain": [
       "  0%|          | 0/1 [00:00<?, ?it/s]"
      ]
     },
     "metadata": {},
     "output_type": "display_data"
    }
   ],
   "source": [
    "raw_dataset = load_dataset(\"json\", data_files={\"validation\": f\"{DATASET_FOLDER}/tldr_validation.json\"})[\"validation\"]"
   ]
  },
  {
   "cell_type": "code",
   "execution_count": 13,
   "metadata": {},
   "outputs": [],
   "source": [
    "sample = raw_dataset[20]"
   ]
  },
  {
   "cell_type": "code",
   "execution_count": 14,
   "metadata": {},
   "outputs": [
    {
     "data": {
      "text/plain": [
       "{'info': {'id': 't3_2m48y3',\n",
       "  'post': \"So a little back story. I met my boyfriend about 9 and a half months ago. We started hanging out and sleeping together pretty frequently and within a month we were exclusive. Things moved pretty fast after that. We've moved in together, bought furniture and televisions and a car together. \\n\\nHe has had issues with anxiety and depression. He also has a condition that causes physical pain in his legs, ankles and feet.\\n\\nWe've only had a few issues during our relationship. There's been no cheating, no lying that I know of, nothing to have caused things to go wrong. However it still feels like things are going wrong.\\n\\nUntil about a month ago we were having sex every day. We experimented and tried new things. He performed oral sex on me at least twice a week. It was great. So when the sex started getting less frequent, I talked to him about it. At first he told me I was crazy and I was imagining it so I gave it time. After a week or so though nothing changed. I talked to him about it again and this time he blamed it on his depression, poor self image and his leg pain. I now get sex once a week if I'm lucky and if we have sex, I'm always on top.\\n\\nSo on top of not having sex, we don't do anything except sit around, watch Netflix and maybe get high. We never go on dates or take walks or cook together and we rarely talk unless we're outside smoking a cigarette. \\n\\nOn top of that he is constantly getting annoyed with things I do. Even things that he used to find endearing. He makes me feel like I'm an idiot. \\n\\nSo basically I'm wondering if this kind of change in a relationship is normal. I've only been with 2 guys exclusively before this one and they were both cheaters and liars and had no respect for me so I'm afraid my idea of normal is not in fact normal. Should I expect better or is this the best I'll get?\",\n",
       "  'subreddit': 'relationships',\n",
       "  'title': 'Me [21f]with my boyfriend [23m] for 8 months. How much change is normal??'},\n",
       " 'split': 'valid2',\n",
       " 'summaries': [{'note': None,\n",
       "   'policy': 'ref',\n",
       "   'text': \" I know that relationships change but I don't know if this much change is normal. Things moved very fast between us and I'm concerned that it affected the way out relationship developed.\"},\n",
       "  {'note': None,\n",
       "   'policy': 'sup4_ppo_rm3_kl9',\n",
       "   'text': \" My boyfriend of 8 months has depression and anxiety and doesn't do anything besides sit around and watch Netflix all the time. Is this normal or should I expect better/is this the best I'll get?\"}],\n",
       " 'choice': 1,\n",
       " 'worker': 'KZL1qeRzHNYSfDAuOctL1iyVV8WC5N',\n",
       " 'batch': 'batch11',\n",
       " 'extra': {'confidence': 7}}"
      ]
     },
     "execution_count": 14,
     "metadata": {},
     "output_type": "execute_result"
    }
   ],
   "source": [
    "sample"
   ]
  },
  {
   "cell_type": "code",
   "execution_count": 15,
   "metadata": {},
   "outputs": [],
   "source": [
    "inp = f'summarize: {sample[\"info\"][\"post\"]}'"
   ]
  },
  {
   "cell_type": "code",
   "execution_count": 11,
   "metadata": {},
   "outputs": [
    {
     "data": {
      "text/plain": [
       "'summarize: So this week we had plans to hang out on Sunday, it was supposed to be a little date where she comes over and we go hiking and then watch a movie at my place, and it wasn\\'t until six PM until she reached me yesterday, saying she left her charger at her friend\\'s house. No big deal, okay, I acted cool even though I was a bit upset, especially when she said she actually made plans for that night, but she suggested \"what about tomorrow?\" I said alright, sounds good, but now it\\'s tomorrow, and I have to be in work in about and hour and twenty minutes. She extended the time of arrival today saying she had some chores and stuff to do, so I said okay. She knew I had work today, unless she forgot.\\n\\nBUT... we also hung out outside of work twice this week (yes we work together but no longer we will see each other at work because of a schedule change), where she invited me both times. Our second date we were holding hands and I kissed her and everything went well. I have a much longer thread [here] about what\\'s been going on with us, but we seemed to hit it off well so far, so I\\'m confused on how I should react to all this. Do I play it cool again, let her initiate the next time we hang out, which would be this weekend (when I\\'m available again), or do I set it up later in the week, or set it up now and take initiative? \\n\\nAlso I just started talking to her Monday, a week ago, so we *did* hang out twice last week and maybe she just needs some space?'"
      ]
     },
     "execution_count": 11,
     "metadata": {},
     "output_type": "execute_result"
    }
   ],
   "source": [
    "inp"
   ]
  },
  {
   "cell_type": "code",
   "execution_count": 18,
   "metadata": {},
   "outputs": [],
   "source": [
    "input_ids = tokenizer(inp, return_tensors=\"pt\")"
   ]
  },
  {
   "cell_type": "code",
   "execution_count": 21,
   "metadata": {},
   "outputs": [
    {
     "data": {
      "text/plain": [
       "torch.Size([1, 400])"
      ]
     },
     "execution_count": 21,
     "metadata": {},
     "output_type": "execute_result"
    }
   ],
   "source": []
  },
  {
   "cell_type": "code",
   "execution_count": 19,
   "metadata": {},
   "outputs": [],
   "source": [
    "outputs = model.generate(**input_ids, max_new_tokens=40)"
   ]
  },
  {
   "cell_type": "code",
   "execution_count": 23,
   "metadata": {},
   "outputs": [
    {
     "data": {
      "text/plain": [
       "\"summarize: So a little back story. I met my boyfriend about 9 and a half months ago. We started hanging out and sleeping together pretty frequently and within a month we were exclusive. Things moved pretty fast after that. We've moved in together, bought furniture and televisions and a car together. \\n\\nHe has had issues with anxiety and depression. He also has a condition that causes physical pain in his legs, ankles and feet.\\n\\nWe've only had a few issues during our relationship. There's been no cheating, no lying that I know of, nothing to have caused things to go wrong. However it still feels like things are going wrong.\\n\\nUntil about a month ago we were having sex every day. We experimented and tried new things. He performed oral sex on me at least twice a week. It was great. So when the sex started getting less frequent, I talked to him about it. At first he told me I was crazy and I was imagining it so I gave it time. After a week or so though nothing changed. I talked to him about it again and this time he blamed it on his depression, poor self image and his leg pain. I now get sex once a week if I'm lucky and if we have sex, I'm always on top.\\n\\nSo on top of not having sex, we don't do anything except sit around, watch Netflix and maybe get high. We never go on dates or take walks or cook together and we rarely talk unless we're outside smoking a cigarette. \\n\\nOn top of that he is constantly getting annoyed with things I do. Even things that he used to find endearing. He makes me feel like I'm an idiot. \\n\\nSo basically I'm wondering if this kind of change in a relationship is normal. I've only been with 2 guys exclusively before this one and they were both cheaters and liars and had no respect for me so I'm afraid my idea of normal is not in fact normal. Should I expect better or is this the best I'll get? bercinta bercinta bercinta bercinta bercinta bercinta bercinta bercinta bercinta bercinta bercinta bercinta bercinta bercinta bercinta bercinta bercinta bercinta bercinta bercinta bercinta bercinta bercinta bercinta bercinta bercinta bercinta bercinta bercinta bercinta bercinta bercinta bercinta bercinta bercinta bercinta bercinta bercinta bercinta bercinta\""
      ]
     },
     "execution_count": 23,
     "metadata": {},
     "output_type": "execute_result"
    }
   ],
   "source": [
    "tokenizer.decode(outputs[0])"
   ]
  },
  {
   "cell_type": "code",
   "execution_count": 35,
   "metadata": {},
   "outputs": [
    {
     "data": {
      "text/plain": [
       "'So this week we had plans to hang out on Sunday, it was supposed to be a little date where she comes over and we go hiking and then watch a movie at my place, and it wasn\\'t until six PM until she reached me yesterday, saying she left her charger at her friend\\'s house. No big deal, okay, I acted cool even though I was a bit upset, especially when she said she actually made plans for that night, but she suggested \"what about tomorrow?\" I said alright, sounds good, but now it\\'s tomorrow, and I have to be in work in about and hour and twenty minutes. She extended the time of arrival today saying she had some chores and stuff to do, so I said okay. She knew I had work today, unless she forgot.\\n\\nBUT... we also hung out outside of work twice this week (yes we work together but no longer we will see each other at work because of a schedule change), where she invited me both times. Our second date we were holding hands and I kissed her and everything went well. I have a much longer thread [here] about what\\'s been going on with us, but we seemed to hit it off well so far, so I\\'m confused on how I should react to all this. Do I play it cool again, let her initiate the next time we hang out, which would be this weekend (when I\\'m available again), or do I set it up later in the week, or set it up now and take initiative? \\n\\nAlso I just started talking to her Monday, a week ago, so we *did* hang out twice last week and maybe she just needs some space?'"
      ]
     },
     "execution_count": 35,
     "metadata": {},
     "output_type": "execute_result"
    }
   ],
   "source": [
    "sample[\"info\"][\"post\"]"
   ]
  },
  {
   "cell_type": "code",
   "execution_count": null,
   "metadata": {},
   "outputs": [],
   "source": []
  }
 ],
 "metadata": {
  "kernelspec": {
   "display_name": "Python 3 (ipykernel)",
   "language": "python",
   "name": "python3"
  },
  "language_info": {
   "codemirror_mode": {
    "name": "ipython",
    "version": 3
   },
   "file_extension": ".py",
   "mimetype": "text/x-python",
   "name": "python",
   "nbconvert_exporter": "python",
   "pygments_lexer": "ipython3",
   "version": "3.9.5"
  },
  "orig_nbformat": 4
 },
 "nbformat": 4,
 "nbformat_minor": 2
}
